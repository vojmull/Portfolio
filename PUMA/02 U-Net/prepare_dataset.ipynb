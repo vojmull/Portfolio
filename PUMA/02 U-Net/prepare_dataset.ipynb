{
 "cells": [
  {
   "cell_type": "code",
   "execution_count": 8,
   "metadata": {},
   "outputs": [],
   "source": [
    "import pandas as pd\n",
    "import numpy as np\n",
    "import os\n",
    "from sklearn.model_selection import train_test_split\n",
    "import shutil\n",
    "from PIL import Image"
   ]
  },
  {
   "cell_type": "code",
   "execution_count": 9,
   "metadata": {},
   "outputs": [
    {
     "name": "stdout",
     "output_type": "stream",
     "text": [
      "Train: 697 Test: 123\n"
     ]
    }
   ],
   "source": [
    "original_imgs_dir = '../_data/05_tif_ROI_patches'\n",
    "original_masks_dir = '../_data/06_ann_tissue_patches'\n",
    "target_dir = 'data'\n",
    "\n",
    "imgs = sorted(os.listdir(original_imgs_dir))\n",
    "masks = sorted(os.listdir(original_masks_dir))\n",
    "assert len(imgs) == len(masks)\n",
    "\n",
    "for i, (img, mask) in enumerate(zip(imgs, masks)):\n",
    "    imgs[i] = os.path.join(original_imgs_dir, img)\n",
    "    masks[i] = os.path.join(original_masks_dir, mask)\n",
    "\n",
    "\n",
    "X_train, X_test, y_train, y_test = train_test_split(imgs, masks, test_size=0.15, random_state=42)\n",
    "print(\"Train:\", len(X_train), \"Test:\", len(X_test))"
   ]
  },
  {
   "cell_type": "code",
   "execution_count": 10,
   "metadata": {},
   "outputs": [],
   "source": [
    "os.makedirs(target_dir, exist_ok=True)\n",
    "os.makedirs(os.path.join(target_dir, 'train/images'), exist_ok=True)\n",
    "os.makedirs(os.path.join(target_dir, 'test/images'), exist_ok=True)\n",
    "os.makedirs(os.path.join(target_dir, 'train/masks'), exist_ok=True)\n",
    "os.makedirs(os.path.join(target_dir, 'test/masks'), exist_ok=True)\n",
    "\n",
    "for img, mask in zip(X_train, y_train):\n",
    "    shutil.copy(img, os.path.join(target_dir, 'train/images', os.path.basename(img)))\n",
    "    shutil.copy(mask, os.path.join(target_dir, 'train/masks', os.path.basename(mask)))\n",
    "\n",
    "for img, mask in zip(X_test, y_test):\n",
    "    shutil.copy(img, os.path.join(target_dir, 'test/images', os.path.basename(img)))\n",
    "    shutil.copy(mask, os.path.join(target_dir, 'test/masks', os.path.basename(mask)))"
   ]
  }
 ],
 "metadata": {
  "kernelspec": {
   "display_name": "puma",
   "language": "python",
   "name": "python3"
  },
  "language_info": {
   "codemirror_mode": {
    "name": "ipython",
    "version": 3
   },
   "file_extension": ".py",
   "mimetype": "text/x-python",
   "name": "python",
   "nbconvert_exporter": "python",
   "pygments_lexer": "ipython3",
   "version": "3.12.9"
  }
 },
 "nbformat": 4,
 "nbformat_minor": 2
}
