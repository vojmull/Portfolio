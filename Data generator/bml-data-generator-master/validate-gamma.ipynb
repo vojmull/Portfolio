{
 "cells": [
  {
   "cell_type": "markdown",
   "id": "ef508e6e-71ac-489f-8328-a60da7b26b69",
   "metadata": {},
   "source": [
    "# Validation of the Gamma distribution\n",
    "Validate that generated data comes from the Gamma distribution.\n",
    "\n",
    "1. Generate gamma distribution dataset and obtain original coefficients on which the normal distribution was built.\n",
    "2. Check that the generated dataset has these coefficients close enough to the original ones."
   ]
  },
  {
   "cell_type": "code",
   "execution_count": 4,
   "id": "5bb566abbab9801c",
   "metadata": {
    "ExecuteTime": {
     "end_time": "2024-03-22T12:32:16.117147Z",
     "start_time": "2024-03-22T12:32:16.096319Z"
    },
    "collapsed": false,
    "execution": {
     "iopub.execute_input": "2024-05-17T13:32:40.361743Z",
     "iopub.status.busy": "2024-05-17T13:32:40.361434Z",
     "iopub.status.idle": "2024-05-17T13:32:40.365459Z",
     "shell.execute_reply": "2024-05-17T13:32:40.364695Z",
     "shell.execute_reply.started": "2024-05-17T13:32:40.361729Z"
    },
    "jupyter": {
     "outputs_hidden": false
    }
   },
   "outputs": [],
   "source": [
    "import seaborn as sns\n",
    "import numpy as np\n",
    "import matplotlib.pyplot as plt\n",
    "import pymc as pm\n",
    "import pytensor.tensor as tt\n",
    "\n",
    "from app import Generator"
   ]
  },
  {
   "cell_type": "code",
   "execution_count": 5,
   "id": "e516ee8419e8d5e",
   "metadata": {
    "collapsed": false,
    "execution": {
     "iopub.execute_input": "2024-05-17T13:32:40.569437Z",
     "iopub.status.busy": "2024-05-17T13:32:40.569142Z",
     "iopub.status.idle": "2024-05-17T13:32:40.660458Z",
     "shell.execute_reply": "2024-05-17T13:32:40.659744Z",
     "shell.execute_reply.started": "2024-05-17T13:32:40.569411Z"
    },
    "jupyter": {
     "outputs_hidden": false
    }
   },
   "outputs": [],
   "source": [
    "g = Generator(n_rows=2500,\n",
    "     n_columns=200,\n",
    "     informative_ratio=0.75,\n",
    "     distribution='gamma',\n",
    ")\n",
    "\n",
    "df = g.generate_data()"
   ]
  },
  {
   "cell_type": "markdown",
   "id": "85a69255-1b63-46b6-8ab8-be574e8ce2d7",
   "metadata": {},
   "source": [
    "# PyMC Gamma\n",
    "Use the PyMC module to obtain the original coefficients."
   ]
  },
  {
   "cell_type": "code",
   "execution_count": 6,
   "id": "18f59482-4041-4437-b638-97167c4a010d",
   "metadata": {
    "execution": {
     "iopub.execute_input": "2024-05-17T13:32:41.194615Z",
     "iopub.status.busy": "2024-05-17T13:32:41.194297Z",
     "iopub.status.idle": "2024-05-17T14:39:53.547564Z",
     "shell.execute_reply": "2024-05-17T14:39:53.546972Z",
     "shell.execute_reply.started": "2024-05-17T13:32:41.194589Z"
    }
   },
   "outputs": [
    {
     "name": "stderr",
     "output_type": "stream",
     "text": [
      "Auto-assigning NUTS sampler...\n",
      "Initializing NUTS using jitter+adapt_diag...\n",
      "Multiprocess sampling (4 chains in 4 jobs)\n",
      "NUTS: [Intercept, beta, sigma]\n"
     ]
    },
    {
     "data": {
      "text/html": [
       "\n",
       "<style>\n",
       "    /* Turns off some styling */\n",
       "    progress {\n",
       "        /* gets rid of default border in Firefox and Opera. */\n",
       "        border: none;\n",
       "        /* Needs to be in here for Safari polyfill so background images work as expected. */\n",
       "        background-size: auto;\n",
       "    }\n",
       "    progress:not([value]), progress:not([value])::-webkit-progress-bar {\n",
       "        background: repeating-linear-gradient(45deg, #7e7e7e, #7e7e7e 10px, #5c5c5c 10px, #5c5c5c 20px);\n",
       "    }\n",
       "    .progress-bar-interrupted, .progress-bar-interrupted::-webkit-progress-bar {\n",
       "        background: #F44336;\n",
       "    }\n",
       "</style>\n"
      ],
      "text/plain": [
       "<IPython.core.display.HTML object>"
      ]
     },
     "metadata": {},
     "output_type": "display_data"
    },
    {
     "data": {
      "text/html": [
       "\n",
       "    <div>\n",
       "      <progress value='4800' class='' max='4800' style='width:300px; height:20px; vertical-align: middle;'></progress>\n",
       "      100.00% [4800/4800 1:07:07&lt;00:00 Sampling 4 chains, 20 divergences]\n",
       "    </div>\n",
       "    "
      ],
      "text/plain": [
       "<IPython.core.display.HTML object>"
      ]
     },
     "metadata": {},
     "output_type": "display_data"
    },
    {
     "name": "stderr",
     "output_type": "stream",
     "text": [
      "Sampling 4 chains for 1_000 tune and 200 draw iterations (4_000 + 800 draws total) took 4028 seconds.\n",
      "There were 20 divergences after tuning. Increase `target_accept` or reparameterize.\n",
      "The rhat statistic is larger than 1.01 for some parameters. This indicates problems during sampling. See https://arxiv.org/abs/1903.08008 for details\n",
      "The effective sample size per chain is smaller than 100 for some parameters.  A higher number is needed for reliable rhat and ess computation. See https://arxiv.org/abs/1903.08008 for details\n"
     ]
    },
    {
     "name": "stdout",
     "output_type": "stream",
     "text": [
      "Intercept     -0.955\n",
      "beta[0]       -0.187\n",
      "beta[1]        0.443\n",
      "beta[2]        0.940\n",
      "beta[3]       -0.874\n",
      "              ...   \n",
      "beta[196]     -0.365\n",
      "beta[197]     -1.234\n",
      "beta[198]     -0.732\n",
      "beta[199]     -1.126\n",
      "sigma        118.955\n",
      "Name: mean, Length: 202, dtype: float64\n"
     ]
    }
   ],
   "source": [
    "model = pm.Model()\n",
    "\n",
    "X = df.drop(columns=['y', 'y_exact'])\n",
    "y = df['y']\n",
    "\n",
    "with model:\n",
    "    intercept = pm.Normal('Intercept', mu=0, sigma=10)\n",
    "    coefficients = pm.Normal('beta', mu=0, sigma=10, shape=X.shape[1])\n",
    "\n",
    "    sigma = pm.HalfNormal('sigma', sigma=10)  # prior pro standardní odchylku\n",
    "\n",
    "    # Lineární kombinace vlastností a koeficientů\n",
    "    eta = intercept + tt.dot(X, coefficients)\n",
    "    mu = eta\n",
    "    \n",
    "    # Výpočet parametrů gamma rozdělení\n",
    "    alpha = (mu ** 2) / (sigma ** 2)\n",
    "    beta = abs(mu) / (sigma ** 2)\n",
    "    \n",
    "    # Likelihood (pozorovaná data)\n",
    "    y_obs = pm.Gamma('y_obs', alpha=alpha, beta=beta, observed=y)\n",
    "    \n",
    "    # Vzorkování z posterioru\n",
    "    trace = pm.sample(200, tune=1000, target_accept=0.95, init='jitter+adapt_diag')\n",
    "\n",
    "coefficients_summary = pm.summary(trace)['mean']\n",
    "print(coefficients_summary)"
   ]
  },
  {
   "cell_type": "markdown",
   "id": "83588c0c-1dd1-4cb5-9d11-61649c80185e",
   "metadata": {},
   "source": [
    "## Comparison\n",
    "Compare the original coefficients with the coefficients obtained with PyMC."
   ]
  },
  {
   "cell_type": "code",
   "execution_count": 8,
   "id": "f03cf9b7-b4b5-40ea-8065-4b0a03298f5c",
   "metadata": {
    "execution": {
     "iopub.execute_input": "2024-05-17T14:42:50.939527Z",
     "iopub.status.busy": "2024-05-17T14:42:50.939136Z",
     "iopub.status.idle": "2024-05-17T14:42:51.242021Z",
     "shell.execute_reply": "2024-05-17T14:42:51.241428Z",
     "shell.execute_reply.started": "2024-05-17T14:42:50.939492Z"
    }
   },
   "outputs": [
    {
     "data": {
      "image/png": "[encoded data removed]",
      "text/plain": [
       "<Figure size 600x600 with 3 Axes>"
      ]
     },
     "metadata": {},
     "output_type": "display_data"
    }
   ],
   "source": [
    "sns.jointplot(x=coefficients_summary.iloc[1:-1].tolist(), y=g.coef_)\n",
    "plt.xlabel('Model coefficients')\n",
    "plt.ylabel('Original coefficients')\n",
    "plt.show()"
   ]
  },
  {
   "cell_type": "markdown",
   "id": "6012f3e7-183f-41f1-a0f2-d08decb39186",
   "metadata": {},
   "source": [
    "As may be seen, PyMC was not successful and there is some problem with the data generation."
   ]
  }
 ],
 "metadata": {
  "kernelspec": {
   "display_name": "kop",
   "language": "python",
   "name": "kop"
  },
  "language_info": {
   "codemirror_mode": {
    "name": "ipython",
    "version": 3
   },
   "file_extension": ".py",
   "mimetype": "text/x-python",
   "name": "python",
   "nbconvert_exporter": "python",
   "pygments_lexer": "ipython3",
   "version": "3.11.5"
  }
 },
 "nbformat": 4,
 "nbformat_minor": 5
}
